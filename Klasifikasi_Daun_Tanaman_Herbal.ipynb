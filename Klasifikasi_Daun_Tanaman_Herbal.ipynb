{
  "nbformat": 4,
  "nbformat_minor": 0,
  "metadata": {
    "colab": {
      "name": "Klasifikasi_Daun_Tanaman_Herbal.ipynb",
      "provenance": []
    },
    "kernelspec": {
      "name": "python3",
      "display_name": "Python 3"
    },
    "language_info": {
      "name": "python"
    }
  },
  "cells": [
    {
      "cell_type": "code",
      "source": [
        "!pip install mahotas"
      ],
      "metadata": {
        "colab": {
          "base_uri": "https://localhost:8080/"
        },
        "id": "S8bIvjW6_0or",
        "outputId": "8b79306c-36a2-4104-c9cd-c5b6d5fed285"
      },
      "execution_count": null,
      "outputs": [
        {
          "output_type": "stream",
          "name": "stdout",
          "text": [
            "Looking in indexes: https://pypi.org/simple, https://us-python.pkg.dev/colab-wheels/public/simple/\n",
            "Requirement already satisfied: mahotas in /usr/local/lib/python3.7/dist-packages (1.4.12)\n",
            "Requirement already satisfied: numpy in /usr/local/lib/python3.7/dist-packages (from mahotas) (1.21.6)\n"
          ]
        }
      ]
    },
    {
      "cell_type": "code",
      "source": [
        "import os\n",
        "import cv2\n",
        "import numpy as np\n",
        "import pandas as pd\n",
        "import mahotas as mt\n",
        "from matplotlib import pyplot as plt\n",
        "%matplotlib inline"
      ],
      "metadata": {
        "id": "6s-bwjIt_0k2"
      },
      "execution_count": null,
      "outputs": []
    },
    {
      "cell_type": "code",
      "source": [
        "from google.colab import drive\n",
        "drive.mount('/content/drive')\n",
        "ds_path = \"/content/drive/My Drive/Dataset Tanaman Herbal\"\n",
        "img_files = os.listdir(ds_path)"
      ],
      "metadata": {
        "colab": {
          "base_uri": "https://localhost:8080/"
        },
        "id": "Rnyc-mdP_0hK",
        "outputId": "a277f373-8f09-4e2c-b01f-eac6b8fe13b2"
      },
      "execution_count": null,
      "outputs": [
        {
          "output_type": "stream",
          "name": "stdout",
          "text": [
            "Drive already mounted at /content/drive; to attempt to forcibly remount, call drive.mount(\"/content/drive\", force_remount=True).\n"
          ]
        }
      ]
    },
    {
      "cell_type": "markdown",
      "source": [
        "**Praproses dan Ekstraksi Ciri**"
      ],
      "metadata": {
        "id": "AIc3hWo5AYxD"
      }
    },
    {
      "cell_type": "code",
      "source": [
        "def create_dataset():\n",
        "    names = ['area','perimeter','physiological_length','physiological_width','aspect_ratio','rectangularity','circularity', \\\n",
        "             'mean_r','mean_g','mean_b','stddev_r','stddev_g','stddev_b', \\\n",
        "             'contrast','correlation','inverse_difference_moments','entropy']\n",
        "    df = pd.DataFrame([], columns=names)\n",
        "    for file in img_files:\n",
        "        imgpath = ds_path + '/' + file\n",
        "        main_img = cv2.imread(imgpath)\n",
        "        \n",
        "        #Preprocessing\n",
        "        img = cv2.cvtColor(main_img, cv2.COLOR_BGR2RGB)\n",
        "        gs = cv2.cvtColor(img,cv2.COLOR_RGB2GRAY)\n",
        "        blur = cv2.GaussianBlur(gs, (25,25),0)\n",
        "        ret_otsu,im_bw_otsu = cv2.threshold(blur,0,255,cv2.THRESH_BINARY_INV+cv2.THRESH_OTSU)\n",
        "        kernel = np.ones((50,50),np.uint8)\n",
        "        closing = cv2.morphologyEx(im_bw_otsu, cv2.MORPH_CLOSE, kernel)\n",
        "        \n",
        "        #Ekstraksi Ciri Bentuk\n",
        "        contours, image = cv2.findContours(closing,cv2.RETR_TREE,cv2.CHAIN_APPROX_SIMPLE)\n",
        "        cnt = contours[0]\n",
        "        M = cv2.moments(cnt)\n",
        "        area = cv2.contourArea(cnt)\n",
        "        perimeter = cv2.arcLength(cnt,True)\n",
        "        x,y,w,h = cv2.boundingRect(cnt)\n",
        "        aspect_ratio = float(w)/h\n",
        "        rectangularity = w*h/area\n",
        "        circularity = ((perimeter)**2)/area\n",
        "        \n",
        "        #Ekstraksi Ciri Warna\n",
        "        red_channel = img[:,:,0]\n",
        "        green_channel = img[:,:,1]\n",
        "        blue_channel = img[:,:,2]\n",
        "        blue_channel[blue_channel == 255] = 0\n",
        "        green_channel[green_channel == 255] = 0\n",
        "        red_channel[red_channel == 255] = 0\n",
        "        \n",
        "        red_mean = np.mean(red_channel)\n",
        "        green_mean = np.mean(green_channel)\n",
        "        blue_mean = np.mean(blue_channel)\n",
        "        \n",
        "        red_std = np.std(red_channel)\n",
        "        green_std = np.std(green_channel)\n",
        "        blue_std = np.std(blue_channel)\n",
        "        \n",
        "        #Ekstraksi Ciri Tekstur\n",
        "        textures = mt.features.haralick(gs)\n",
        "        ht_mean = textures.mean(axis=0)\n",
        "        contrast = ht_mean[1]\n",
        "        correlation = ht_mean[2]\n",
        "        inverse_diff_moments = ht_mean[4]\n",
        "        entropy = ht_mean[8]\n",
        "        \n",
        "        vector = [area,perimeter,w,h,aspect_ratio,rectangularity,circularity,\\\n",
        "                  red_mean,green_mean,blue_mean,red_std,green_std,blue_std,\\\n",
        "                  contrast,correlation,inverse_diff_moments,entropy\n",
        "                 ]\n",
        "        \n",
        "        df_temp = pd.DataFrame([vector],columns=names)\n",
        "        df = df.append(df_temp)\n",
        "        print(file)\n",
        "    return df"
      ],
      "metadata": {
        "id": "QjWf_sQ6_0cM"
      },
      "execution_count": null,
      "outputs": []
    },
    {
      "cell_type": "markdown",
      "source": [
        "**Membuat Dataset**"
      ],
      "metadata": {
        "id": "xQjL_N91Aw_s"
      }
    },
    {
      "cell_type": "code",
      "source": [
        "dataset = create_dataset()"
      ],
      "metadata": {
        "colab": {
          "base_uri": "https://localhost:8080/"
        },
        "id": "23OgJXdC_0W4",
        "outputId": "282fe467-b134-44a1-e819-35c58c5a7128"
      },
      "execution_count": null,
      "outputs": [
        {
          "output_type": "stream",
          "name": "stdout",
          "text": [
            "199.JPG\n",
            "170.JPG\n",
            "175.JPG\n",
            "174.JPG\n",
            "185.JPG\n",
            "169.JPG\n",
            "197.JPG\n",
            "191.JPG\n",
            "196.JPG\n",
            "192.JPG\n",
            "176.JPG\n",
            "155.JPG\n",
            "181.JPG\n",
            "187.JPG\n",
            "183.JPG\n",
            "157.JPG\n",
            "200.JPG\n",
            "156.JPG\n",
            "193.JPG\n",
            "154.JPG\n",
            "186.JPG\n",
            "194.JPG\n",
            "151.JPG\n",
            "184.JPG\n",
            "153.JPG\n",
            "164.JPG\n",
            "177.JPG\n",
            "160.JPG\n",
            "159.JPG\n",
            "173.JPG\n",
            "163.JPG\n",
            "178.JPG\n",
            "129.JPG\n",
            "123.JPG\n",
            "122.JPG\n",
            "108.JPG\n",
            "125.JPG\n",
            "115.JPG\n",
            "138.JPG\n",
            "140.JPG\n",
            "137.JPG\n",
            "103.JPG\n",
            "146.JPG\n",
            "121.JPG\n",
            "106.JPG\n",
            "105.JPG\n",
            "110.JPG\n",
            "120.JPG\n",
            "145.JPG\n",
            "150.JPG\n",
            "118.JPG\n",
            "134.JPG\n",
            "126.JPG\n",
            "113.JPG\n",
            "127.JPG\n",
            "116.JPG\n",
            "132.JPG\n",
            "149.JPG\n",
            "142.JPG\n",
            "136.JPG\n",
            "139.JPG\n",
            "188.JPG\n",
            "179.JPG\n",
            "158.JPG\n",
            "162.JPG\n",
            "189.JPG\n",
            "171.JPG\n",
            "190.JPG\n",
            "166.JPG\n",
            "172.JPG\n",
            "195.JPG\n",
            "168.JPG\n",
            "167.JPG\n",
            "180.JPG\n",
            "152.JPG\n",
            "161.JPG\n",
            "165.JPG\n",
            "182.JPG\n",
            "198.JPG\n",
            "107.JPG\n",
            "112.JPG\n",
            "128.JPG\n",
            "148.JPG\n",
            "131.JPG\n",
            "141.JPG\n",
            "124.JPG\n",
            "104.JPG\n",
            "144.JPG\n",
            "114.JPG\n",
            "102.JPG\n",
            "147.JPG\n",
            "119.JPG\n",
            "101.JPG\n",
            "143.JPG\n",
            "109.JPG\n",
            "111.JPG\n",
            "130.JPG\n",
            "133.JPG\n",
            "135.JPG\n",
            "117.JPG\n",
            "251.JPG\n",
            "260.JPG\n",
            "263.JPG\n",
            "261.JPG\n",
            "265.JPG\n",
            "264.JPG\n",
            "262.JPG\n",
            "270.JPG\n",
            "268.JPG\n",
            "271.JPG\n",
            "267.JPG\n",
            "272.JPG\n",
            "274.JPG\n",
            "252.JPG\n",
            "273.JPG\n",
            "276.JPG\n",
            "278.JPG\n",
            "275.JPG\n",
            "277.JPG\n",
            "253.JPG\n",
            "279.JPG\n",
            "281.JPG\n",
            "280.JPG\n",
            "284.JPG\n",
            "285.JPG\n",
            "286.JPG\n",
            "283.JPG\n",
            "282.JPG\n",
            "287.jpg\n",
            "254.JPG\n",
            "255.JPG\n",
            "288.JPG\n",
            "290.JPG\n",
            "289.JPG\n",
            "291.JPG\n",
            "293.JPG\n",
            "292.JPG\n",
            "256.JPG\n",
            "296.JPG\n",
            "295.JPG\n",
            "294.JPG\n",
            "297.JPG\n",
            "298.JPG\n",
            "257.JPG\n",
            "299.JPG\n",
            "258.JPG\n",
            "300.JPG\n",
            "269.JPG\n",
            "266.JPG\n",
            "259.JPG\n",
            "51.jpg\n",
            "75.jpg\n",
            "82.jpg\n",
            "52.jpg\n",
            "81.jpg\n",
            "72.jpg\n",
            "71.jpg\n",
            "69.jpg\n",
            "76.jpg\n",
            "91.jpg\n",
            "80.jpg\n",
            "78.jpg\n",
            "70.jpg\n",
            "57.jpg\n",
            "100.jpg\n",
            "61.jpg\n",
            "55.jpg\n",
            "79.jpg\n",
            "98.jpg\n",
            "83.jpg\n",
            "77.jpg\n",
            "59.jpg\n",
            "60.jpg\n",
            "88.jpg\n",
            "54.jpg\n",
            "85.jpg\n",
            "58.jpg\n",
            "62.jpg\n",
            "56.jpg\n",
            "74.jpg\n",
            "64.jpg\n",
            "65.jpg\n",
            "67.jpg\n",
            "68.jpg\n",
            "66.jpg\n",
            "97.jpg\n",
            "90.jpg\n",
            "95.jpg\n",
            "89.jpg\n",
            "63.jpg\n",
            "53.jpg\n",
            "99.jpg\n",
            "93.jpg\n",
            "92.jpg\n",
            "94.jpg\n",
            "84.jpg\n",
            "96.jpg\n",
            "87.jpg\n",
            "86.jpg\n",
            "73.jpg\n",
            "212.JPG\n",
            "210.JPG\n",
            "213.JPG\n",
            "201.JPG\n",
            "211.JPG\n",
            "214.JPG\n",
            "215.JPG\n",
            "217.JPG\n",
            "216.JPG\n",
            "219.JPG\n",
            "202.JPG\n",
            "218.JPG\n",
            "220.JPG\n",
            "222.JPG\n",
            "224.JPG\n",
            "223.JPG\n",
            "221.JPG\n",
            "227.JPG\n",
            "228.JPG\n",
            "226.JPG\n",
            "225.JPG\n",
            "203.JPG\n",
            "230.JPG\n",
            "231.JPG\n",
            "233.JPG\n",
            "234.JPG\n",
            "235.JPG\n",
            "232.JPG\n",
            "236.JPG\n",
            "204.JPG\n",
            "237.JPG\n",
            "238.JPG\n",
            "239.JPG\n",
            "243.JPG\n",
            "241.JPG\n",
            "242.JPG\n",
            "240.JPG\n",
            "244.JPG\n",
            "245.JPG\n",
            "246.JPG\n",
            "247.JPG\n",
            "248.JPG\n",
            "205.JPG\n",
            "249.JPG\n",
            "206.JPG\n",
            "250.JPG\n",
            "207.JPG\n",
            "229.JPG\n",
            "209.JPG\n",
            "208.JPG\n",
            "45.JPG\n",
            "34.JPG\n",
            "21.JPG\n",
            "33.JPG\n",
            "30.JPG\n",
            "2.JPG\n",
            "26.JPG\n",
            "3.JPG\n",
            "29.JPG\n",
            "28.JPG\n",
            "12.JPG\n",
            "1.JPG\n",
            "24.JPG\n",
            "6.JPG\n",
            "23.JPG\n",
            "22.JPG\n",
            "5.JPG\n",
            "4.JPG\n",
            "20.JPG\n",
            "25.JPG\n",
            "32.JPG\n",
            "13.JPG\n",
            "31.JPG\n",
            "10.JPG\n",
            "7.JPG\n",
            "17.JPG\n",
            "49.JPG\n",
            "16.JPG\n",
            "18.JPG\n",
            "27.JPG\n",
            "14.JPG\n",
            "15.JPG\n",
            "50.JPG\n",
            "47.JPG\n",
            "48.JPG\n",
            "42.JPG\n",
            "41.JPG\n",
            "9.JPG\n",
            "46.JPG\n",
            "39.JPG\n",
            "8.JPG\n",
            "38.JPG\n",
            "40.JPG\n",
            "35.JPG\n",
            "11.JPG\n",
            "37.JPG\n",
            "36.JPG\n",
            "43.JPG\n",
            "19.JPG\n",
            "44.JPG\n"
          ]
        }
      ]
    },
    {
      "cell_type": "code",
      "source": [
        "dataset.shape"
      ],
      "metadata": {
        "colab": {
          "base_uri": "https://localhost:8080/"
        },
        "id": "4dIPclxo_0RP",
        "outputId": "c08ed082-790c-4cbc-a5a1-310b811439e4"
      },
      "execution_count": null,
      "outputs": [
        {
          "output_type": "execute_result",
          "data": {
            "text/plain": [
              "(300, 17)"
            ]
          },
          "metadata": {},
          "execution_count": 6
        }
      ]
    },
    {
      "cell_type": "markdown",
      "source": [
        "**Menyimpan Dataset ke CSV**"
      ],
      "metadata": {
        "id": "V7oAhaTCA6Cd"
      }
    },
    {
      "cell_type": "code",
      "source": [
        "dataset.to_csv(\"Dataset_Daun_Tanaman_Herbal.csv\")"
      ],
      "metadata": {
        "id": "HHwRrqGH_0NL"
      },
      "execution_count": null,
      "outputs": []
    },
    {
      "cell_type": "markdown",
      "source": [
        "**Membaca Dataset**"
      ],
      "metadata": {
        "id": "wLrS6SdYDKgQ"
      }
    },
    {
      "cell_type": "code",
      "execution_count": null,
      "metadata": {
        "id": "E2_3U7mAqvIP"
      },
      "outputs": [],
      "source": [
        "import string"
      ]
    },
    {
      "cell_type": "code",
      "source": [
        "dataset_daun_herbal = pd.read_csv(\"Dataset_Daun_Tanaman_Herbal.csv\")"
      ],
      "metadata": {
        "id": "83A2Y_APqxHO"
      },
      "execution_count": null,
      "outputs": []
    },
    {
      "cell_type": "code",
      "source": [
        "dataset_daun_herbal.head(5)"
      ],
      "metadata": {
        "colab": {
          "base_uri": "https://localhost:8080/",
          "height": 288
        },
        "id": "lq1_TUtKqxFE",
        "outputId": "7d7e4e78-9e80-47b8-f493-4320cff063a7"
      },
      "execution_count": null,
      "outputs": [
        {
          "output_type": "execute_result",
          "data": {
            "text/plain": [
              "   Unnamed: 0        area     perimeter  physiological_length  \\\n",
              "0           0   5314528.0  12254.393261                  2091   \n",
              "1           0   7920045.5  12689.177632                  1998   \n",
              "2           0  10332361.5  13852.156553                  4769   \n",
              "3           0  11083780.5  14973.490461                  5081   \n",
              "4           0  11133737.0  14013.956074                  4194   \n",
              "\n",
              "   physiological_width  aspect_ratio  rectangularity  circularity      mean_r  \\\n",
              "0                 5029      0.415788        1.978659    28.256536  141.524051   \n",
              "1                 5184      0.385417        1.307774    20.330089  152.597358   \n",
              "2                 3162      1.508223        1.459451    18.570996  142.788639   \n",
              "3                 3064      1.658290        1.404592    20.228244  156.068677   \n",
              "4                 3456      1.213542        1.301851    17.639267  141.431441   \n",
              "\n",
              "       mean_g      mean_b   stddev_r   stddev_g   stddev_b  contrast  \\\n",
              "0  148.819748  133.722071  66.010105  55.134421  77.138947  3.714767   \n",
              "1  165.802121  136.274327  78.004975  64.770272  92.465421  6.777056   \n",
              "2  165.160994  115.510576  76.703042  57.501641  99.311056  6.131957   \n",
              "3  180.408847  121.084746  69.448245  52.703018  95.002142  6.955309   \n",
              "4  162.998647  114.407385  73.660976  57.672767  93.829191  9.218659   \n",
              "\n",
              "   correlation  inverse_difference_moments    entropy  \n",
              "0     0.999498                    0.568340   9.468771  \n",
              "1     0.999311                    0.481985  10.473779  \n",
              "2     0.999335                    0.513775   8.965062  \n",
              "3     0.999092                    0.507087   9.211151  \n",
              "4     0.998952                    0.463108   9.566383  "
            ],
            "text/html": [
              "\n",
              "  <div id=\"df-640e86d6-0f73-4abc-af22-3d4e428462e7\">\n",
              "    <div class=\"colab-df-container\">\n",
              "      <div>\n",
              "<style scoped>\n",
              "    .dataframe tbody tr th:only-of-type {\n",
              "        vertical-align: middle;\n",
              "    }\n",
              "\n",
              "    .dataframe tbody tr th {\n",
              "        vertical-align: top;\n",
              "    }\n",
              "\n",
              "    .dataframe thead th {\n",
              "        text-align: right;\n",
              "    }\n",
              "</style>\n",
              "<table border=\"1\" class=\"dataframe\">\n",
              "  <thead>\n",
              "    <tr style=\"text-align: right;\">\n",
              "      <th></th>\n",
              "      <th>Unnamed: 0</th>\n",
              "      <th>area</th>\n",
              "      <th>perimeter</th>\n",
              "      <th>physiological_length</th>\n",
              "      <th>physiological_width</th>\n",
              "      <th>aspect_ratio</th>\n",
              "      <th>rectangularity</th>\n",
              "      <th>circularity</th>\n",
              "      <th>mean_r</th>\n",
              "      <th>mean_g</th>\n",
              "      <th>mean_b</th>\n",
              "      <th>stddev_r</th>\n",
              "      <th>stddev_g</th>\n",
              "      <th>stddev_b</th>\n",
              "      <th>contrast</th>\n",
              "      <th>correlation</th>\n",
              "      <th>inverse_difference_moments</th>\n",
              "      <th>entropy</th>\n",
              "    </tr>\n",
              "  </thead>\n",
              "  <tbody>\n",
              "    <tr>\n",
              "      <th>0</th>\n",
              "      <td>0</td>\n",
              "      <td>5314528.0</td>\n",
              "      <td>12254.393261</td>\n",
              "      <td>2091</td>\n",
              "      <td>5029</td>\n",
              "      <td>0.415788</td>\n",
              "      <td>1.978659</td>\n",
              "      <td>28.256536</td>\n",
              "      <td>141.524051</td>\n",
              "      <td>148.819748</td>\n",
              "      <td>133.722071</td>\n",
              "      <td>66.010105</td>\n",
              "      <td>55.134421</td>\n",
              "      <td>77.138947</td>\n",
              "      <td>3.714767</td>\n",
              "      <td>0.999498</td>\n",
              "      <td>0.568340</td>\n",
              "      <td>9.468771</td>\n",
              "    </tr>\n",
              "    <tr>\n",
              "      <th>1</th>\n",
              "      <td>0</td>\n",
              "      <td>7920045.5</td>\n",
              "      <td>12689.177632</td>\n",
              "      <td>1998</td>\n",
              "      <td>5184</td>\n",
              "      <td>0.385417</td>\n",
              "      <td>1.307774</td>\n",
              "      <td>20.330089</td>\n",
              "      <td>152.597358</td>\n",
              "      <td>165.802121</td>\n",
              "      <td>136.274327</td>\n",
              "      <td>78.004975</td>\n",
              "      <td>64.770272</td>\n",
              "      <td>92.465421</td>\n",
              "      <td>6.777056</td>\n",
              "      <td>0.999311</td>\n",
              "      <td>0.481985</td>\n",
              "      <td>10.473779</td>\n",
              "    </tr>\n",
              "    <tr>\n",
              "      <th>2</th>\n",
              "      <td>0</td>\n",
              "      <td>10332361.5</td>\n",
              "      <td>13852.156553</td>\n",
              "      <td>4769</td>\n",
              "      <td>3162</td>\n",
              "      <td>1.508223</td>\n",
              "      <td>1.459451</td>\n",
              "      <td>18.570996</td>\n",
              "      <td>142.788639</td>\n",
              "      <td>165.160994</td>\n",
              "      <td>115.510576</td>\n",
              "      <td>76.703042</td>\n",
              "      <td>57.501641</td>\n",
              "      <td>99.311056</td>\n",
              "      <td>6.131957</td>\n",
              "      <td>0.999335</td>\n",
              "      <td>0.513775</td>\n",
              "      <td>8.965062</td>\n",
              "    </tr>\n",
              "    <tr>\n",
              "      <th>3</th>\n",
              "      <td>0</td>\n",
              "      <td>11083780.5</td>\n",
              "      <td>14973.490461</td>\n",
              "      <td>5081</td>\n",
              "      <td>3064</td>\n",
              "      <td>1.658290</td>\n",
              "      <td>1.404592</td>\n",
              "      <td>20.228244</td>\n",
              "      <td>156.068677</td>\n",
              "      <td>180.408847</td>\n",
              "      <td>121.084746</td>\n",
              "      <td>69.448245</td>\n",
              "      <td>52.703018</td>\n",
              "      <td>95.002142</td>\n",
              "      <td>6.955309</td>\n",
              "      <td>0.999092</td>\n",
              "      <td>0.507087</td>\n",
              "      <td>9.211151</td>\n",
              "    </tr>\n",
              "    <tr>\n",
              "      <th>4</th>\n",
              "      <td>0</td>\n",
              "      <td>11133737.0</td>\n",
              "      <td>14013.956074</td>\n",
              "      <td>4194</td>\n",
              "      <td>3456</td>\n",
              "      <td>1.213542</td>\n",
              "      <td>1.301851</td>\n",
              "      <td>17.639267</td>\n",
              "      <td>141.431441</td>\n",
              "      <td>162.998647</td>\n",
              "      <td>114.407385</td>\n",
              "      <td>73.660976</td>\n",
              "      <td>57.672767</td>\n",
              "      <td>93.829191</td>\n",
              "      <td>9.218659</td>\n",
              "      <td>0.998952</td>\n",
              "      <td>0.463108</td>\n",
              "      <td>9.566383</td>\n",
              "    </tr>\n",
              "  </tbody>\n",
              "</table>\n",
              "</div>\n",
              "      <button class=\"colab-df-convert\" onclick=\"convertToInteractive('df-640e86d6-0f73-4abc-af22-3d4e428462e7')\"\n",
              "              title=\"Convert this dataframe to an interactive table.\"\n",
              "              style=\"display:none;\">\n",
              "        \n",
              "  <svg xmlns=\"http://www.w3.org/2000/svg\" height=\"24px\"viewBox=\"0 0 24 24\"\n",
              "       width=\"24px\">\n",
              "    <path d=\"M0 0h24v24H0V0z\" fill=\"none\"/>\n",
              "    <path d=\"M18.56 5.44l.94 2.06.94-2.06 2.06-.94-2.06-.94-.94-2.06-.94 2.06-2.06.94zm-11 1L8.5 8.5l.94-2.06 2.06-.94-2.06-.94L8.5 2.5l-.94 2.06-2.06.94zm10 10l.94 2.06.94-2.06 2.06-.94-2.06-.94-.94-2.06-.94 2.06-2.06.94z\"/><path d=\"M17.41 7.96l-1.37-1.37c-.4-.4-.92-.59-1.43-.59-.52 0-1.04.2-1.43.59L10.3 9.45l-7.72 7.72c-.78.78-.78 2.05 0 2.83L4 21.41c.39.39.9.59 1.41.59.51 0 1.02-.2 1.41-.59l7.78-7.78 2.81-2.81c.8-.78.8-2.07 0-2.86zM5.41 20L4 18.59l7.72-7.72 1.47 1.35L5.41 20z\"/>\n",
              "  </svg>\n",
              "      </button>\n",
              "      \n",
              "  <style>\n",
              "    .colab-df-container {\n",
              "      display:flex;\n",
              "      flex-wrap:wrap;\n",
              "      gap: 12px;\n",
              "    }\n",
              "\n",
              "    .colab-df-convert {\n",
              "      background-color: #E8F0FE;\n",
              "      border: none;\n",
              "      border-radius: 50%;\n",
              "      cursor: pointer;\n",
              "      display: none;\n",
              "      fill: #1967D2;\n",
              "      height: 32px;\n",
              "      padding: 0 0 0 0;\n",
              "      width: 32px;\n",
              "    }\n",
              "\n",
              "    .colab-df-convert:hover {\n",
              "      background-color: #E2EBFA;\n",
              "      box-shadow: 0px 1px 2px rgba(60, 64, 67, 0.3), 0px 1px 3px 1px rgba(60, 64, 67, 0.15);\n",
              "      fill: #174EA6;\n",
              "    }\n",
              "\n",
              "    [theme=dark] .colab-df-convert {\n",
              "      background-color: #3B4455;\n",
              "      fill: #D2E3FC;\n",
              "    }\n",
              "\n",
              "    [theme=dark] .colab-df-convert:hover {\n",
              "      background-color: #434B5C;\n",
              "      box-shadow: 0px 1px 3px 1px rgba(0, 0, 0, 0.15);\n",
              "      filter: drop-shadow(0px 1px 2px rgba(0, 0, 0, 0.3));\n",
              "      fill: #FFFFFF;\n",
              "    }\n",
              "  </style>\n",
              "\n",
              "      <script>\n",
              "        const buttonEl =\n",
              "          document.querySelector('#df-640e86d6-0f73-4abc-af22-3d4e428462e7 button.colab-df-convert');\n",
              "        buttonEl.style.display =\n",
              "          google.colab.kernel.accessAllowed ? 'block' : 'none';\n",
              "\n",
              "        async function convertToInteractive(key) {\n",
              "          const element = document.querySelector('#df-640e86d6-0f73-4abc-af22-3d4e428462e7');\n",
              "          const dataTable =\n",
              "            await google.colab.kernel.invokeFunction('convertToInteractive',\n",
              "                                                     [key], {});\n",
              "          if (!dataTable) return;\n",
              "\n",
              "          const docLinkHtml = 'Like what you see? Visit the ' +\n",
              "            '<a target=\"_blank\" href=https://colab.research.google.com/notebooks/data_table.ipynb>data table notebook</a>'\n",
              "            + ' to learn more about interactive tables.';\n",
              "          element.innerHTML = '';\n",
              "          dataTable['output_type'] = 'display_data';\n",
              "          await google.colab.output.renderOutput(dataTable, element);\n",
              "          const docLink = document.createElement('div');\n",
              "          docLink.innerHTML = docLinkHtml;\n",
              "          element.appendChild(docLink);\n",
              "        }\n",
              "      </script>\n",
              "    </div>\n",
              "  </div>\n",
              "  "
            ]
          },
          "metadata": {},
          "execution_count": 10
        }
      ]
    },
    {
      "cell_type": "markdown",
      "source": [
        "**Membuat Label**"
      ],
      "metadata": {
        "id": "NQh0OuRiBIOi"
      }
    },
    {
      "cell_type": "code",
      "source": [
        "breakpoints = [1,50,51,100,101,150,151,200,201,250,251,300]"
      ],
      "metadata": {
        "id": "mmdm6lFXqw_A"
      },
      "execution_count": null,
      "outputs": []
    },
    {
      "cell_type": "code",
      "source": [
        "target_list = []\n",
        "for file in img_files:\n",
        "    target_num = int(file.split(\".\")[0])\n",
        "    flag = 0\n",
        "    i = 0 \n",
        "    for i in range(0,len(breakpoints),2):\n",
        "        if((target_num >= breakpoints[i]) and (target_num <= breakpoints[i+1])):\n",
        "            flag = 1\n",
        "            break\n",
        "    if(flag==1):\n",
        "        target = int((i/2))\n",
        "        target_list.append(target)"
      ],
      "metadata": {
        "id": "t7cL9Wsbqw83"
      },
      "execution_count": null,
      "outputs": []
    },
    {
      "cell_type": "code",
      "source": [
        "y = np.array(target_list)\n",
        "y"
      ],
      "metadata": {
        "colab": {
          "base_uri": "https://localhost:8080/"
        },
        "id": "6pV5DDgnqw60",
        "outputId": "bd69dab7-8df7-4ebd-f6e8-a3ca0dd15f03"
      },
      "execution_count": null,
      "outputs": [
        {
          "output_type": "execute_result",
          "data": {
            "text/plain": [
              "array([3, 3, 3, 3, 3, 3, 3, 3, 3, 3, 3, 3, 3, 3, 3, 3, 3, 3, 3, 3, 3, 3,\n",
              "       3, 3, 3, 3, 3, 3, 3, 3, 3, 3, 2, 2, 2, 2, 2, 2, 2, 2, 2, 2, 2, 2,\n",
              "       2, 2, 2, 2, 2, 2, 2, 2, 2, 2, 2, 2, 2, 2, 2, 2, 2, 3, 3, 3, 3, 3,\n",
              "       3, 3, 3, 3, 3, 3, 3, 3, 3, 3, 3, 3, 3, 2, 2, 2, 2, 2, 2, 2, 2, 2,\n",
              "       2, 2, 2, 2, 2, 2, 2, 2, 2, 2, 2, 2, 5, 5, 5, 5, 5, 5, 5, 5, 5, 5,\n",
              "       5, 5, 5, 5, 5, 5, 5, 5, 5, 5, 5, 5, 5, 5, 5, 5, 5, 5, 5, 5, 5, 5,\n",
              "       5, 5, 5, 5, 5, 5, 5, 5, 5, 5, 5, 5, 5, 5, 5, 5, 5, 5, 1, 1, 1, 1,\n",
              "       1, 1, 1, 1, 1, 1, 1, 1, 1, 1, 1, 1, 1, 1, 1, 1, 1, 1, 1, 1, 1, 1,\n",
              "       1, 1, 1, 1, 1, 1, 1, 1, 1, 1, 1, 1, 1, 1, 1, 1, 1, 1, 1, 1, 1, 1,\n",
              "       1, 1, 4, 4, 4, 4, 4, 4, 4, 4, 4, 4, 4, 4, 4, 4, 4, 4, 4, 4, 4, 4,\n",
              "       4, 4, 4, 4, 4, 4, 4, 4, 4, 4, 4, 4, 4, 4, 4, 4, 4, 4, 4, 4, 4, 4,\n",
              "       4, 4, 4, 4, 4, 4, 4, 4, 0, 0, 0, 0, 0, 0, 0, 0, 0, 0, 0, 0, 0, 0,\n",
              "       0, 0, 0, 0, 0, 0, 0, 0, 0, 0, 0, 0, 0, 0, 0, 0, 0, 0, 0, 0, 0, 0,\n",
              "       0, 0, 0, 0, 0, 0, 0, 0, 0, 0, 0, 0, 0, 0])"
            ]
          },
          "metadata": {},
          "execution_count": 13
        }
      ]
    },
    {
      "cell_type": "code",
      "source": [
        "X = dataset_daun_herbal.iloc[:,1:]"
      ],
      "metadata": {
        "id": "Y4ZrV5ZVqw4t"
      },
      "execution_count": null,
      "outputs": []
    },
    {
      "cell_type": "code",
      "source": [
        "X.head(5)"
      ],
      "metadata": {
        "colab": {
          "base_uri": "https://localhost:8080/",
          "height": 270
        },
        "id": "xLiBCfwNqw2s",
        "outputId": "31008879-0d7c-4760-ed29-500057558158"
      },
      "execution_count": null,
      "outputs": [
        {
          "output_type": "execute_result",
          "data": {
            "text/plain": [
              "         area     perimeter  physiological_length  physiological_width  \\\n",
              "0   5314528.0  12254.393261                  2091                 5029   \n",
              "1   7920045.5  12689.177632                  1998                 5184   \n",
              "2  10332361.5  13852.156553                  4769                 3162   \n",
              "3  11083780.5  14973.490461                  5081                 3064   \n",
              "4  11133737.0  14013.956074                  4194                 3456   \n",
              "\n",
              "   aspect_ratio  rectangularity  circularity      mean_r      mean_g  \\\n",
              "0      0.415788        1.978659    28.256536  141.524051  148.819748   \n",
              "1      0.385417        1.307774    20.330089  152.597358  165.802121   \n",
              "2      1.508223        1.459451    18.570996  142.788639  165.160994   \n",
              "3      1.658290        1.404592    20.228244  156.068677  180.408847   \n",
              "4      1.213542        1.301851    17.639267  141.431441  162.998647   \n",
              "\n",
              "       mean_b   stddev_r   stddev_g   stddev_b  contrast  correlation  \\\n",
              "0  133.722071  66.010105  55.134421  77.138947  3.714767     0.999498   \n",
              "1  136.274327  78.004975  64.770272  92.465421  6.777056     0.999311   \n",
              "2  115.510576  76.703042  57.501641  99.311056  6.131957     0.999335   \n",
              "3  121.084746  69.448245  52.703018  95.002142  6.955309     0.999092   \n",
              "4  114.407385  73.660976  57.672767  93.829191  9.218659     0.998952   \n",
              "\n",
              "   inverse_difference_moments    entropy  \n",
              "0                    0.568340   9.468771  \n",
              "1                    0.481985  10.473779  \n",
              "2                    0.513775   8.965062  \n",
              "3                    0.507087   9.211151  \n",
              "4                    0.463108   9.566383  "
            ],
            "text/html": [
              "\n",
              "  <div id=\"df-a61998a7-9cfd-4b6d-93a4-5ff5f15aa900\">\n",
              "    <div class=\"colab-df-container\">\n",
              "      <div>\n",
              "<style scoped>\n",
              "    .dataframe tbody tr th:only-of-type {\n",
              "        vertical-align: middle;\n",
              "    }\n",
              "\n",
              "    .dataframe tbody tr th {\n",
              "        vertical-align: top;\n",
              "    }\n",
              "\n",
              "    .dataframe thead th {\n",
              "        text-align: right;\n",
              "    }\n",
              "</style>\n",
              "<table border=\"1\" class=\"dataframe\">\n",
              "  <thead>\n",
              "    <tr style=\"text-align: right;\">\n",
              "      <th></th>\n",
              "      <th>area</th>\n",
              "      <th>perimeter</th>\n",
              "      <th>physiological_length</th>\n",
              "      <th>physiological_width</th>\n",
              "      <th>aspect_ratio</th>\n",
              "      <th>rectangularity</th>\n",
              "      <th>circularity</th>\n",
              "      <th>mean_r</th>\n",
              "      <th>mean_g</th>\n",
              "      <th>mean_b</th>\n",
              "      <th>stddev_r</th>\n",
              "      <th>stddev_g</th>\n",
              "      <th>stddev_b</th>\n",
              "      <th>contrast</th>\n",
              "      <th>correlation</th>\n",
              "      <th>inverse_difference_moments</th>\n",
              "      <th>entropy</th>\n",
              "    </tr>\n",
              "  </thead>\n",
              "  <tbody>\n",
              "    <tr>\n",
              "      <th>0</th>\n",
              "      <td>5314528.0</td>\n",
              "      <td>12254.393261</td>\n",
              "      <td>2091</td>\n",
              "      <td>5029</td>\n",
              "      <td>0.415788</td>\n",
              "      <td>1.978659</td>\n",
              "      <td>28.256536</td>\n",
              "      <td>141.524051</td>\n",
              "      <td>148.819748</td>\n",
              "      <td>133.722071</td>\n",
              "      <td>66.010105</td>\n",
              "      <td>55.134421</td>\n",
              "      <td>77.138947</td>\n",
              "      <td>3.714767</td>\n",
              "      <td>0.999498</td>\n",
              "      <td>0.568340</td>\n",
              "      <td>9.468771</td>\n",
              "    </tr>\n",
              "    <tr>\n",
              "      <th>1</th>\n",
              "      <td>7920045.5</td>\n",
              "      <td>12689.177632</td>\n",
              "      <td>1998</td>\n",
              "      <td>5184</td>\n",
              "      <td>0.385417</td>\n",
              "      <td>1.307774</td>\n",
              "      <td>20.330089</td>\n",
              "      <td>152.597358</td>\n",
              "      <td>165.802121</td>\n",
              "      <td>136.274327</td>\n",
              "      <td>78.004975</td>\n",
              "      <td>64.770272</td>\n",
              "      <td>92.465421</td>\n",
              "      <td>6.777056</td>\n",
              "      <td>0.999311</td>\n",
              "      <td>0.481985</td>\n",
              "      <td>10.473779</td>\n",
              "    </tr>\n",
              "    <tr>\n",
              "      <th>2</th>\n",
              "      <td>10332361.5</td>\n",
              "      <td>13852.156553</td>\n",
              "      <td>4769</td>\n",
              "      <td>3162</td>\n",
              "      <td>1.508223</td>\n",
              "      <td>1.459451</td>\n",
              "      <td>18.570996</td>\n",
              "      <td>142.788639</td>\n",
              "      <td>165.160994</td>\n",
              "      <td>115.510576</td>\n",
              "      <td>76.703042</td>\n",
              "      <td>57.501641</td>\n",
              "      <td>99.311056</td>\n",
              "      <td>6.131957</td>\n",
              "      <td>0.999335</td>\n",
              "      <td>0.513775</td>\n",
              "      <td>8.965062</td>\n",
              "    </tr>\n",
              "    <tr>\n",
              "      <th>3</th>\n",
              "      <td>11083780.5</td>\n",
              "      <td>14973.490461</td>\n",
              "      <td>5081</td>\n",
              "      <td>3064</td>\n",
              "      <td>1.658290</td>\n",
              "      <td>1.404592</td>\n",
              "      <td>20.228244</td>\n",
              "      <td>156.068677</td>\n",
              "      <td>180.408847</td>\n",
              "      <td>121.084746</td>\n",
              "      <td>69.448245</td>\n",
              "      <td>52.703018</td>\n",
              "      <td>95.002142</td>\n",
              "      <td>6.955309</td>\n",
              "      <td>0.999092</td>\n",
              "      <td>0.507087</td>\n",
              "      <td>9.211151</td>\n",
              "    </tr>\n",
              "    <tr>\n",
              "      <th>4</th>\n",
              "      <td>11133737.0</td>\n",
              "      <td>14013.956074</td>\n",
              "      <td>4194</td>\n",
              "      <td>3456</td>\n",
              "      <td>1.213542</td>\n",
              "      <td>1.301851</td>\n",
              "      <td>17.639267</td>\n",
              "      <td>141.431441</td>\n",
              "      <td>162.998647</td>\n",
              "      <td>114.407385</td>\n",
              "      <td>73.660976</td>\n",
              "      <td>57.672767</td>\n",
              "      <td>93.829191</td>\n",
              "      <td>9.218659</td>\n",
              "      <td>0.998952</td>\n",
              "      <td>0.463108</td>\n",
              "      <td>9.566383</td>\n",
              "    </tr>\n",
              "  </tbody>\n",
              "</table>\n",
              "</div>\n",
              "      <button class=\"colab-df-convert\" onclick=\"convertToInteractive('df-a61998a7-9cfd-4b6d-93a4-5ff5f15aa900')\"\n",
              "              title=\"Convert this dataframe to an interactive table.\"\n",
              "              style=\"display:none;\">\n",
              "        \n",
              "  <svg xmlns=\"http://www.w3.org/2000/svg\" height=\"24px\"viewBox=\"0 0 24 24\"\n",
              "       width=\"24px\">\n",
              "    <path d=\"M0 0h24v24H0V0z\" fill=\"none\"/>\n",
              "    <path d=\"M18.56 5.44l.94 2.06.94-2.06 2.06-.94-2.06-.94-.94-2.06-.94 2.06-2.06.94zm-11 1L8.5 8.5l.94-2.06 2.06-.94-2.06-.94L8.5 2.5l-.94 2.06-2.06.94zm10 10l.94 2.06.94-2.06 2.06-.94-2.06-.94-.94-2.06-.94 2.06-2.06.94z\"/><path d=\"M17.41 7.96l-1.37-1.37c-.4-.4-.92-.59-1.43-.59-.52 0-1.04.2-1.43.59L10.3 9.45l-7.72 7.72c-.78.78-.78 2.05 0 2.83L4 21.41c.39.39.9.59 1.41.59.51 0 1.02-.2 1.41-.59l7.78-7.78 2.81-2.81c.8-.78.8-2.07 0-2.86zM5.41 20L4 18.59l7.72-7.72 1.47 1.35L5.41 20z\"/>\n",
              "  </svg>\n",
              "      </button>\n",
              "      \n",
              "  <style>\n",
              "    .colab-df-container {\n",
              "      display:flex;\n",
              "      flex-wrap:wrap;\n",
              "      gap: 12px;\n",
              "    }\n",
              "\n",
              "    .colab-df-convert {\n",
              "      background-color: #E8F0FE;\n",
              "      border: none;\n",
              "      border-radius: 50%;\n",
              "      cursor: pointer;\n",
              "      display: none;\n",
              "      fill: #1967D2;\n",
              "      height: 32px;\n",
              "      padding: 0 0 0 0;\n",
              "      width: 32px;\n",
              "    }\n",
              "\n",
              "    .colab-df-convert:hover {\n",
              "      background-color: #E2EBFA;\n",
              "      box-shadow: 0px 1px 2px rgba(60, 64, 67, 0.3), 0px 1px 3px 1px rgba(60, 64, 67, 0.15);\n",
              "      fill: #174EA6;\n",
              "    }\n",
              "\n",
              "    [theme=dark] .colab-df-convert {\n",
              "      background-color: #3B4455;\n",
              "      fill: #D2E3FC;\n",
              "    }\n",
              "\n",
              "    [theme=dark] .colab-df-convert:hover {\n",
              "      background-color: #434B5C;\n",
              "      box-shadow: 0px 1px 3px 1px rgba(0, 0, 0, 0.15);\n",
              "      filter: drop-shadow(0px 1px 2px rgba(0, 0, 0, 0.3));\n",
              "      fill: #FFFFFF;\n",
              "    }\n",
              "  </style>\n",
              "\n",
              "      <script>\n",
              "        const buttonEl =\n",
              "          document.querySelector('#df-a61998a7-9cfd-4b6d-93a4-5ff5f15aa900 button.colab-df-convert');\n",
              "        buttonEl.style.display =\n",
              "          google.colab.kernel.accessAllowed ? 'block' : 'none';\n",
              "\n",
              "        async function convertToInteractive(key) {\n",
              "          const element = document.querySelector('#df-a61998a7-9cfd-4b6d-93a4-5ff5f15aa900');\n",
              "          const dataTable =\n",
              "            await google.colab.kernel.invokeFunction('convertToInteractive',\n",
              "                                                     [key], {});\n",
              "          if (!dataTable) return;\n",
              "\n",
              "          const docLinkHtml = 'Like what you see? Visit the ' +\n",
              "            '<a target=\"_blank\" href=https://colab.research.google.com/notebooks/data_table.ipynb>data table notebook</a>'\n",
              "            + ' to learn more about interactive tables.';\n",
              "          element.innerHTML = '';\n",
              "          dataTable['output_type'] = 'display_data';\n",
              "          await google.colab.output.renderOutput(dataTable, element);\n",
              "          const docLink = document.createElement('div');\n",
              "          docLink.innerHTML = docLinkHtml;\n",
              "          element.appendChild(docLink);\n",
              "        }\n",
              "      </script>\n",
              "    </div>\n",
              "  </div>\n",
              "  "
            ]
          },
          "metadata": {},
          "execution_count": 15
        }
      ]
    },
    {
      "cell_type": "code",
      "source": [
        "y[0:5]"
      ],
      "metadata": {
        "colab": {
          "base_uri": "https://localhost:8080/"
        },
        "id": "VzcXAYQmtyqL",
        "outputId": "316f09de-4a65-4c42-d59a-e67392603d14"
      },
      "execution_count": null,
      "outputs": [
        {
          "output_type": "execute_result",
          "data": {
            "text/plain": [
              "array([3, 3, 3, 3, 3])"
            ]
          },
          "metadata": {},
          "execution_count": 16
        }
      ]
    },
    {
      "cell_type": "markdown",
      "source": [
        "**Train Test Split dengan Data Training 70% dan Data Testing 30%**"
      ],
      "metadata": {
        "id": "cbO8X6rvBRI3"
      }
    },
    {
      "cell_type": "code",
      "source": [
        "from sklearn.model_selection import train_test_split"
      ],
      "metadata": {
        "id": "gmJhGrXetyoW"
      },
      "execution_count": null,
      "outputs": []
    },
    {
      "cell_type": "code",
      "source": [
        "X_train, X_test, y_train, y_test = train_test_split(X, y, test_size=0.3, random_state = 1)"
      ],
      "metadata": {
        "id": "hlZ2O9_Ztymd"
      },
      "execution_count": null,
      "outputs": []
    },
    {
      "cell_type": "code",
      "source": [
        "X_train.head(5)"
      ],
      "metadata": {
        "colab": {
          "base_uri": "https://localhost:8080/",
          "height": 270
        },
        "id": "Scv3GBO8tykb",
        "outputId": "16ab1d7b-38de-4fc6-878b-72418fa8c3df"
      },
      "execution_count": null,
      "outputs": [
        {
          "output_type": "execute_result",
          "data": {
            "text/plain": [
              "           area     perimeter  physiological_length  physiological_width  \\\n",
              "253        53.0     28.142135                    10                    9   \n",
              "19    3680496.5   8296.895110                  2133                 2585   \n",
              "14        334.0     69.941125                    21                   23   \n",
              "91   12066938.0  24508.052536                  5184                 3300   \n",
              "296      9156.0    500.048771                   141                  128   \n",
              "\n",
              "     aspect_ratio  rectangularity  circularity      mean_r      mean_g  \\\n",
              "253      1.111111        1.698113    14.943015  140.497102  146.884500   \n",
              "19       0.825145        1.498114    18.703582  195.844663  201.326510   \n",
              "14       0.913043        1.446108    14.645991  131.522901  136.485379   \n",
              "91       1.570909        1.417692    49.776061  121.117364  133.490388   \n",
              "296      1.101562        1.971166    27.309827  136.308502  149.405429   \n",
              "\n",
              "         mean_b   stddev_r   stddev_g   stddev_b   contrast  correlation  \\\n",
              "253  129.448644  60.863025  51.918052  75.493578   6.106340     0.999064   \n",
              "19   186.484916  61.533114  50.685838  78.897473   3.536454     0.999456   \n",
              "14   126.228877  57.371424  49.671415  65.294599   4.270803     0.999257   \n",
              "91   107.149906  82.150558  72.833931  92.025936   8.827699     0.999269   \n",
              "296  114.745368  61.260323  53.091634  76.147713  10.061950     0.998493   \n",
              "\n",
              "     inverse_difference_moments    entropy  \n",
              "253                    0.453738   9.484868  \n",
              "19                     0.604683   8.675645  \n",
              "14                     0.561548   9.841272  \n",
              "91                     0.463600   9.411641  \n",
              "296                    0.401936  10.429487  "
            ],
            "text/html": [
              "\n",
              "  <div id=\"df-fa0b3806-766f-490e-8ec6-48d996d14f29\">\n",
              "    <div class=\"colab-df-container\">\n",
              "      <div>\n",
              "<style scoped>\n",
              "    .dataframe tbody tr th:only-of-type {\n",
              "        vertical-align: middle;\n",
              "    }\n",
              "\n",
              "    .dataframe tbody tr th {\n",
              "        vertical-align: top;\n",
              "    }\n",
              "\n",
              "    .dataframe thead th {\n",
              "        text-align: right;\n",
              "    }\n",
              "</style>\n",
              "<table border=\"1\" class=\"dataframe\">\n",
              "  <thead>\n",
              "    <tr style=\"text-align: right;\">\n",
              "      <th></th>\n",
              "      <th>area</th>\n",
              "      <th>perimeter</th>\n",
              "      <th>physiological_length</th>\n",
              "      <th>physiological_width</th>\n",
              "      <th>aspect_ratio</th>\n",
              "      <th>rectangularity</th>\n",
              "      <th>circularity</th>\n",
              "      <th>mean_r</th>\n",
              "      <th>mean_g</th>\n",
              "      <th>mean_b</th>\n",
              "      <th>stddev_r</th>\n",
              "      <th>stddev_g</th>\n",
              "      <th>stddev_b</th>\n",
              "      <th>contrast</th>\n",
              "      <th>correlation</th>\n",
              "      <th>inverse_difference_moments</th>\n",
              "      <th>entropy</th>\n",
              "    </tr>\n",
              "  </thead>\n",
              "  <tbody>\n",
              "    <tr>\n",
              "      <th>253</th>\n",
              "      <td>53.0</td>\n",
              "      <td>28.142135</td>\n",
              "      <td>10</td>\n",
              "      <td>9</td>\n",
              "      <td>1.111111</td>\n",
              "      <td>1.698113</td>\n",
              "      <td>14.943015</td>\n",
              "      <td>140.497102</td>\n",
              "      <td>146.884500</td>\n",
              "      <td>129.448644</td>\n",
              "      <td>60.863025</td>\n",
              "      <td>51.918052</td>\n",
              "      <td>75.493578</td>\n",
              "      <td>6.106340</td>\n",
              "      <td>0.999064</td>\n",
              "      <td>0.453738</td>\n",
              "      <td>9.484868</td>\n",
              "    </tr>\n",
              "    <tr>\n",
              "      <th>19</th>\n",
              "      <td>3680496.5</td>\n",
              "      <td>8296.895110</td>\n",
              "      <td>2133</td>\n",
              "      <td>2585</td>\n",
              "      <td>0.825145</td>\n",
              "      <td>1.498114</td>\n",
              "      <td>18.703582</td>\n",
              "      <td>195.844663</td>\n",
              "      <td>201.326510</td>\n",
              "      <td>186.484916</td>\n",
              "      <td>61.533114</td>\n",
              "      <td>50.685838</td>\n",
              "      <td>78.897473</td>\n",
              "      <td>3.536454</td>\n",
              "      <td>0.999456</td>\n",
              "      <td>0.604683</td>\n",
              "      <td>8.675645</td>\n",
              "    </tr>\n",
              "    <tr>\n",
              "      <th>14</th>\n",
              "      <td>334.0</td>\n",
              "      <td>69.941125</td>\n",
              "      <td>21</td>\n",
              "      <td>23</td>\n",
              "      <td>0.913043</td>\n",
              "      <td>1.446108</td>\n",
              "      <td>14.645991</td>\n",
              "      <td>131.522901</td>\n",
              "      <td>136.485379</td>\n",
              "      <td>126.228877</td>\n",
              "      <td>57.371424</td>\n",
              "      <td>49.671415</td>\n",
              "      <td>65.294599</td>\n",
              "      <td>4.270803</td>\n",
              "      <td>0.999257</td>\n",
              "      <td>0.561548</td>\n",
              "      <td>9.841272</td>\n",
              "    </tr>\n",
              "    <tr>\n",
              "      <th>91</th>\n",
              "      <td>12066938.0</td>\n",
              "      <td>24508.052536</td>\n",
              "      <td>5184</td>\n",
              "      <td>3300</td>\n",
              "      <td>1.570909</td>\n",
              "      <td>1.417692</td>\n",
              "      <td>49.776061</td>\n",
              "      <td>121.117364</td>\n",
              "      <td>133.490388</td>\n",
              "      <td>107.149906</td>\n",
              "      <td>82.150558</td>\n",
              "      <td>72.833931</td>\n",
              "      <td>92.025936</td>\n",
              "      <td>8.827699</td>\n",
              "      <td>0.999269</td>\n",
              "      <td>0.463600</td>\n",
              "      <td>9.411641</td>\n",
              "    </tr>\n",
              "    <tr>\n",
              "      <th>296</th>\n",
              "      <td>9156.0</td>\n",
              "      <td>500.048771</td>\n",
              "      <td>141</td>\n",
              "      <td>128</td>\n",
              "      <td>1.101562</td>\n",
              "      <td>1.971166</td>\n",
              "      <td>27.309827</td>\n",
              "      <td>136.308502</td>\n",
              "      <td>149.405429</td>\n",
              "      <td>114.745368</td>\n",
              "      <td>61.260323</td>\n",
              "      <td>53.091634</td>\n",
              "      <td>76.147713</td>\n",
              "      <td>10.061950</td>\n",
              "      <td>0.998493</td>\n",
              "      <td>0.401936</td>\n",
              "      <td>10.429487</td>\n",
              "    </tr>\n",
              "  </tbody>\n",
              "</table>\n",
              "</div>\n",
              "      <button class=\"colab-df-convert\" onclick=\"convertToInteractive('df-fa0b3806-766f-490e-8ec6-48d996d14f29')\"\n",
              "              title=\"Convert this dataframe to an interactive table.\"\n",
              "              style=\"display:none;\">\n",
              "        \n",
              "  <svg xmlns=\"http://www.w3.org/2000/svg\" height=\"24px\"viewBox=\"0 0 24 24\"\n",
              "       width=\"24px\">\n",
              "    <path d=\"M0 0h24v24H0V0z\" fill=\"none\"/>\n",
              "    <path d=\"M18.56 5.44l.94 2.06.94-2.06 2.06-.94-2.06-.94-.94-2.06-.94 2.06-2.06.94zm-11 1L8.5 8.5l.94-2.06 2.06-.94-2.06-.94L8.5 2.5l-.94 2.06-2.06.94zm10 10l.94 2.06.94-2.06 2.06-.94-2.06-.94-.94-2.06-.94 2.06-2.06.94z\"/><path d=\"M17.41 7.96l-1.37-1.37c-.4-.4-.92-.59-1.43-.59-.52 0-1.04.2-1.43.59L10.3 9.45l-7.72 7.72c-.78.78-.78 2.05 0 2.83L4 21.41c.39.39.9.59 1.41.59.51 0 1.02-.2 1.41-.59l7.78-7.78 2.81-2.81c.8-.78.8-2.07 0-2.86zM5.41 20L4 18.59l7.72-7.72 1.47 1.35L5.41 20z\"/>\n",
              "  </svg>\n",
              "      </button>\n",
              "      \n",
              "  <style>\n",
              "    .colab-df-container {\n",
              "      display:flex;\n",
              "      flex-wrap:wrap;\n",
              "      gap: 12px;\n",
              "    }\n",
              "\n",
              "    .colab-df-convert {\n",
              "      background-color: #E8F0FE;\n",
              "      border: none;\n",
              "      border-radius: 50%;\n",
              "      cursor: pointer;\n",
              "      display: none;\n",
              "      fill: #1967D2;\n",
              "      height: 32px;\n",
              "      padding: 0 0 0 0;\n",
              "      width: 32px;\n",
              "    }\n",
              "\n",
              "    .colab-df-convert:hover {\n",
              "      background-color: #E2EBFA;\n",
              "      box-shadow: 0px 1px 2px rgba(60, 64, 67, 0.3), 0px 1px 3px 1px rgba(60, 64, 67, 0.15);\n",
              "      fill: #174EA6;\n",
              "    }\n",
              "\n",
              "    [theme=dark] .colab-df-convert {\n",
              "      background-color: #3B4455;\n",
              "      fill: #D2E3FC;\n",
              "    }\n",
              "\n",
              "    [theme=dark] .colab-df-convert:hover {\n",
              "      background-color: #434B5C;\n",
              "      box-shadow: 0px 1px 3px 1px rgba(0, 0, 0, 0.15);\n",
              "      filter: drop-shadow(0px 1px 2px rgba(0, 0, 0, 0.3));\n",
              "      fill: #FFFFFF;\n",
              "    }\n",
              "  </style>\n",
              "\n",
              "      <script>\n",
              "        const buttonEl =\n",
              "          document.querySelector('#df-fa0b3806-766f-490e-8ec6-48d996d14f29 button.colab-df-convert');\n",
              "        buttonEl.style.display =\n",
              "          google.colab.kernel.accessAllowed ? 'block' : 'none';\n",
              "\n",
              "        async function convertToInteractive(key) {\n",
              "          const element = document.querySelector('#df-fa0b3806-766f-490e-8ec6-48d996d14f29');\n",
              "          const dataTable =\n",
              "            await google.colab.kernel.invokeFunction('convertToInteractive',\n",
              "                                                     [key], {});\n",
              "          if (!dataTable) return;\n",
              "\n",
              "          const docLinkHtml = 'Like what you see? Visit the ' +\n",
              "            '<a target=\"_blank\" href=https://colab.research.google.com/notebooks/data_table.ipynb>data table notebook</a>'\n",
              "            + ' to learn more about interactive tables.';\n",
              "          element.innerHTML = '';\n",
              "          dataTable['output_type'] = 'display_data';\n",
              "          await google.colab.output.renderOutput(dataTable, element);\n",
              "          const docLink = document.createElement('div');\n",
              "          docLink.innerHTML = docLinkHtml;\n",
              "          element.appendChild(docLink);\n",
              "        }\n",
              "      </script>\n",
              "    </div>\n",
              "  </div>\n",
              "  "
            ]
          },
          "metadata": {},
          "execution_count": 19
        }
      ]
    },
    {
      "cell_type": "code",
      "source": [
        "y_train[0:5]"
      ],
      "metadata": {
        "colab": {
          "base_uri": "https://localhost:8080/"
        },
        "id": "byUCbgyityiZ",
        "outputId": "ca3c5280-3bcf-4480-aad8-8d1771938844"
      },
      "execution_count": null,
      "outputs": [
        {
          "output_type": "execute_result",
          "data": {
            "text/plain": [
              "array([0, 3, 3, 2, 0])"
            ]
          },
          "metadata": {},
          "execution_count": 20
        }
      ]
    },
    {
      "cell_type": "markdown",
      "source": [
        "**Feature Scaling**"
      ],
      "metadata": {
        "id": "7CeXiNbmBfQF"
      }
    },
    {
      "cell_type": "code",
      "source": [
        "from sklearn.preprocessing import StandardScaler"
      ],
      "metadata": {
        "id": "uhz1jtYKtygF"
      },
      "execution_count": null,
      "outputs": []
    },
    {
      "cell_type": "code",
      "source": [
        "sc_X = StandardScaler()\n",
        "X_train = sc_X.fit_transform(X_train)\n",
        "X_test = sc_X.transform(X_test)"
      ],
      "metadata": {
        "id": "cJ-Lc630ufEM"
      },
      "execution_count": null,
      "outputs": []
    },
    {
      "cell_type": "code",
      "source": [
        "X_train[0:2]"
      ],
      "metadata": {
        "colab": {
          "base_uri": "https://localhost:8080/"
        },
        "id": "41Wo7QUcufA8",
        "outputId": "0ab05c99-cebf-437c-b26e-d2c3ec135f7d"
      },
      "execution_count": null,
      "outputs": [
        {
          "output_type": "execute_result",
          "data": {
            "text/plain": [
              "array([[-1.23144358, -1.13427457, -1.29755071, -1.21748244, -0.34910489,\n",
              "        -0.02187504, -0.53717018, -0.97489003, -1.24796217, -0.91244128,\n",
              "        -0.64317522, -0.56206745, -0.68058398, -0.60623384,  0.55261928,\n",
              "        -0.96031978,  0.3090499 ],\n",
              "       [-0.29603539, -0.21327866, -0.25784318,  0.33990381, -0.52686777,\n",
              "        -0.24908799, -0.44509409,  1.64541178,  1.63963561,  1.70205733,\n",
              "        -0.56233197, -0.72600036, -0.30969565, -0.76885875,  0.73162321,\n",
              "         0.97871065, -1.15746334]])"
            ]
          },
          "metadata": {},
          "execution_count": 23
        }
      ]
    },
    {
      "cell_type": "code",
      "source": [
        "y_train[0:2]"
      ],
      "metadata": {
        "colab": {
          "base_uri": "https://localhost:8080/"
        },
        "id": "SwMDPNOxue4i",
        "outputId": "73d742a7-4622-436c-ea0b-d9f847a0e565"
      },
      "execution_count": null,
      "outputs": [
        {
          "output_type": "execute_result",
          "data": {
            "text/plain": [
              "array([0, 3])"
            ]
          },
          "metadata": {},
          "execution_count": 24
        }
      ]
    },
    {
      "cell_type": "markdown",
      "source": [
        "Membuat Model Klasifikasi dengan SVM "
      ],
      "metadata": {
        "id": "IZwB4CtdBjnU"
      }
    },
    {
      "cell_type": "code",
      "source": [
        "from sklearn import svm"
      ],
      "metadata": {
        "id": "dpk2xNGuue2s"
      },
      "execution_count": null,
      "outputs": []
    },
    {
      "cell_type": "code",
      "source": [
        "clf = svm.SVC()\n",
        "clf.fit(X_train,y_train)"
      ],
      "metadata": {
        "colab": {
          "base_uri": "https://localhost:8080/"
        },
        "id": "VJ8wmMYhue01",
        "outputId": "a964f7cd-5c4f-4f01-8240-73a9becac97f"
      },
      "execution_count": null,
      "outputs": [
        {
          "output_type": "execute_result",
          "data": {
            "text/plain": [
              "SVC()"
            ]
          },
          "metadata": {},
          "execution_count": 26
        }
      ]
    },
    {
      "cell_type": "code",
      "source": [
        "y_pred = clf.predict(X_test)"
      ],
      "metadata": {
        "id": "ttAoNSqHueyu"
      },
      "execution_count": null,
      "outputs": []
    },
    {
      "cell_type": "code",
      "source": [
        "from sklearn import metrics"
      ],
      "metadata": {
        "id": "u9zuKcuuuewf"
      },
      "execution_count": null,
      "outputs": []
    },
    {
      "cell_type": "code",
      "source": [
        "metrics.accuracy_score(y_test, y_pred)"
      ],
      "metadata": {
        "colab": {
          "base_uri": "https://localhost:8080/"
        },
        "id": "bvaBoe-Bueuo",
        "outputId": "02ebc266-59ee-47e2-f800-01d5455e83f4"
      },
      "execution_count": null,
      "outputs": [
        {
          "output_type": "execute_result",
          "data": {
            "text/plain": [
              "0.8"
            ]
          },
          "metadata": {},
          "execution_count": 29
        }
      ]
    },
    {
      "cell_type": "code",
      "source": [
        "print(metrics.classification_report(y_test, y_pred))"
      ],
      "metadata": {
        "colab": {
          "base_uri": "https://localhost:8080/"
        },
        "id": "zB5IVX1AuesT",
        "outputId": "df2694f2-a179-4a26-9997-42973accbfec"
      },
      "execution_count": null,
      "outputs": [
        {
          "output_type": "stream",
          "name": "stdout",
          "text": [
            "              precision    recall  f1-score   support\n",
            "\n",
            "           0       0.80      0.86      0.83        14\n",
            "           1       1.00      0.94      0.97        18\n",
            "           2       0.92      0.85      0.88        13\n",
            "           3       0.89      0.53      0.67        15\n",
            "           4       0.71      0.80      0.75        15\n",
            "           5       0.60      0.80      0.69        15\n",
            "\n",
            "    accuracy                           0.80        90\n",
            "   macro avg       0.82      0.80      0.80        90\n",
            "weighted avg       0.82      0.80      0.80        90\n",
            "\n"
          ]
        }
      ]
    },
    {
      "cell_type": "markdown",
      "source": [
        "Parameter Tuning"
      ],
      "metadata": {
        "id": "rkgIlZOOBu0F"
      }
    },
    {
      "cell_type": "code",
      "source": [
        "from sklearn.model_selection import GridSearchCV"
      ],
      "metadata": {
        "id": "zHuQ1voju2M_"
      },
      "execution_count": null,
      "outputs": []
    },
    {
      "cell_type": "code",
      "source": [
        "parameters = [{'kernel': ['rbf'],\n",
        "               'gamma': [1e-4, 1e-3, 0.01, 0.1, 0.2, 0.5],\n",
        "               'C': [1, 10, 100, 1000]},\n",
        "              {'kernel': ['linear'], 'C': [1, 10, 100, 1000]}\n",
        "             ]"
      ],
      "metadata": {
        "id": "YD02TR2Ju2Kn"
      },
      "execution_count": null,
      "outputs": []
    },
    {
      "cell_type": "code",
      "source": [
        "svm_clf = GridSearchCV(svm.SVC(decision_function_shape='ovr'), parameters, cv=5)\n",
        "svm_clf.fit(X_train, y_train)"
      ],
      "metadata": {
        "colab": {
          "base_uri": "https://localhost:8080/"
        },
        "id": "j5MxipdLu2IV",
        "outputId": "dbb236dc-a48a-4f39-8588-a2e03cf6494b"
      },
      "execution_count": null,
      "outputs": [
        {
          "output_type": "execute_result",
          "data": {
            "text/plain": [
              "GridSearchCV(cv=5, estimator=SVC(),\n",
              "             param_grid=[{'C': [1, 10, 100, 1000],\n",
              "                          'gamma': [0.0001, 0.001, 0.01, 0.1, 0.2, 0.5],\n",
              "                          'kernel': ['rbf']},\n",
              "                         {'C': [1, 10, 100, 1000], 'kernel': ['linear']}])"
            ]
          },
          "metadata": {},
          "execution_count": 33
        }
      ]
    },
    {
      "cell_type": "code",
      "source": [
        "svm_clf.best_params_"
      ],
      "metadata": {
        "colab": {
          "base_uri": "https://localhost:8080/"
        },
        "id": "TU_XdgD8u2GS",
        "outputId": "2855915d-ea64-49b9-f4c8-aa30581eae3d"
      },
      "execution_count": null,
      "outputs": [
        {
          "output_type": "execute_result",
          "data": {
            "text/plain": [
              "{'C': 100, 'kernel': 'linear'}"
            ]
          },
          "metadata": {},
          "execution_count": 34
        }
      ]
    },
    {
      "cell_type": "code",
      "source": [
        "means = svm_clf.cv_results_['mean_test_score']\n",
        "stds = svm_clf.cv_results_['std_test_score']\n",
        "for mean, std, params in zip(means, stds, svm_clf.cv_results_['params']):\n",
        "    print(\"%0.3f (+/-%0.03f) for %r\" % (mean, std * 2, params))"
      ],
      "metadata": {
        "colab": {
          "base_uri": "https://localhost:8080/"
        },
        "id": "stIoft2Gu2Du",
        "outputId": "07ad948f-1ca7-42fb-db87-0a7cb60da2ae"
      },
      "execution_count": null,
      "outputs": [
        {
          "output_type": "stream",
          "name": "stdout",
          "text": [
            "0.219 (+/-0.129) for {'C': 1, 'gamma': 0.0001, 'kernel': 'rbf'}\n",
            "0.433 (+/-0.149) for {'C': 1, 'gamma': 0.001, 'kernel': 'rbf'}\n",
            "0.643 (+/-0.154) for {'C': 1, 'gamma': 0.01, 'kernel': 'rbf'}\n",
            "0.710 (+/-0.102) for {'C': 1, 'gamma': 0.1, 'kernel': 'rbf'}\n",
            "0.714 (+/-0.085) for {'C': 1, 'gamma': 0.2, 'kernel': 'rbf'}\n",
            "0.662 (+/-0.070) for {'C': 1, 'gamma': 0.5, 'kernel': 'rbf'}\n",
            "0.457 (+/-0.102) for {'C': 10, 'gamma': 0.0001, 'kernel': 'rbf'}\n",
            "0.633 (+/-0.137) for {'C': 10, 'gamma': 0.001, 'kernel': 'rbf'}\n",
            "0.724 (+/-0.155) for {'C': 10, 'gamma': 0.01, 'kernel': 'rbf'}\n",
            "0.767 (+/-0.076) for {'C': 10, 'gamma': 0.1, 'kernel': 'rbf'}\n",
            "0.748 (+/-0.049) for {'C': 10, 'gamma': 0.2, 'kernel': 'rbf'}\n",
            "0.690 (+/-0.109) for {'C': 10, 'gamma': 0.5, 'kernel': 'rbf'}\n",
            "0.633 (+/-0.137) for {'C': 100, 'gamma': 0.0001, 'kernel': 'rbf'}\n",
            "0.719 (+/-0.163) for {'C': 100, 'gamma': 0.001, 'kernel': 'rbf'}\n",
            "0.814 (+/-0.070) for {'C': 100, 'gamma': 0.01, 'kernel': 'rbf'}\n",
            "0.762 (+/-0.085) for {'C': 100, 'gamma': 0.1, 'kernel': 'rbf'}\n",
            "0.743 (+/-0.076) for {'C': 100, 'gamma': 0.2, 'kernel': 'rbf'}\n",
            "0.690 (+/-0.109) for {'C': 100, 'gamma': 0.5, 'kernel': 'rbf'}\n",
            "0.710 (+/-0.160) for {'C': 1000, 'gamma': 0.0001, 'kernel': 'rbf'}\n",
            "0.800 (+/-0.115) for {'C': 1000, 'gamma': 0.001, 'kernel': 'rbf'}\n",
            "0.800 (+/-0.071) for {'C': 1000, 'gamma': 0.01, 'kernel': 'rbf'}\n",
            "0.762 (+/-0.085) for {'C': 1000, 'gamma': 0.1, 'kernel': 'rbf'}\n",
            "0.743 (+/-0.076) for {'C': 1000, 'gamma': 0.2, 'kernel': 'rbf'}\n",
            "0.690 (+/-0.109) for {'C': 1000, 'gamma': 0.5, 'kernel': 'rbf'}\n",
            "0.795 (+/-0.088) for {'C': 1, 'kernel': 'linear'}\n",
            "0.805 (+/-0.070) for {'C': 10, 'kernel': 'linear'}\n",
            "0.819 (+/-0.065) for {'C': 100, 'kernel': 'linear'}\n",
            "0.819 (+/-0.049) for {'C': 1000, 'kernel': 'linear'}\n"
          ]
        }
      ]
    },
    {
      "cell_type": "code",
      "source": [
        "y_pred_svm = svm_clf.predict(X_test)"
      ],
      "metadata": {
        "id": "U6LpKtCMu2A0"
      },
      "execution_count": null,
      "outputs": []
    },
    {
      "cell_type": "code",
      "source": [
        "metrics.accuracy_score(y_test, y_pred_svm)"
      ],
      "metadata": {
        "colab": {
          "base_uri": "https://localhost:8080/"
        },
        "id": "8owNXWMzu1-j",
        "outputId": "381caae8-9592-4a36-9ebb-0a1ca7371f26"
      },
      "execution_count": null,
      "outputs": [
        {
          "output_type": "execute_result",
          "data": {
            "text/plain": [
              "0.8444444444444444"
            ]
          },
          "metadata": {},
          "execution_count": 37
        }
      ]
    },
    {
      "cell_type": "code",
      "source": [
        "print(metrics.classification_report(y_test, y_pred_svm))"
      ],
      "metadata": {
        "colab": {
          "base_uri": "https://localhost:8080/"
        },
        "id": "mRHNyr3PvPbG",
        "outputId": "457c7127-0885-4a36-f802-96963b561bd4"
      },
      "execution_count": null,
      "outputs": [
        {
          "output_type": "stream",
          "name": "stdout",
          "text": [
            "              precision    recall  f1-score   support\n",
            "\n",
            "           0       0.61      0.79      0.69        14\n",
            "           1       1.00      1.00      1.00        18\n",
            "           2       0.91      0.77      0.83        13\n",
            "           3       0.92      0.73      0.81        15\n",
            "           4       0.92      0.80      0.86        15\n",
            "           5       0.78      0.93      0.85        15\n",
            "\n",
            "    accuracy                           0.84        90\n",
            "   macro avg       0.86      0.84      0.84        90\n",
            "weighted avg       0.86      0.84      0.85        90\n",
            "\n"
          ]
        }
      ]
    },
    {
      "cell_type": "markdown",
      "source": [
        "Mengetes Klasifikasi dengan Citra Daun yang Belum Terklasifikasi"
      ],
      "metadata": {
        "id": "0rES1ymxB-EK"
      }
    },
    {
      "cell_type": "code",
      "source": [
        "def bg_sub(filename):\n",
        "    test_img_path = '/content/drive/My Drive/' + filename\n",
        "    main_img = cv2.imread(test_img_path)\n",
        "    img = cv2.cvtColor(main_img, cv2.COLOR_BGR2RGB)\n",
        "    resized_image = cv2.resize(img, (1600, 1200))\n",
        "    size_y,size_x,_ = img.shape\n",
        "    gs = cv2.cvtColor(resized_image,cv2.COLOR_RGB2GRAY)\n",
        "    blur = cv2.GaussianBlur(gs, (55,55),0)\n",
        "    ret_otsu,im_bw_otsu = cv2.threshold(blur,0,255,cv2.THRESH_BINARY_INV+cv2.THRESH_OTSU)\n",
        "    kernel = np.ones((50,50),np.uint8)\n",
        "    closing = cv2.morphologyEx(im_bw_otsu, cv2.MORPH_CLOSE, kernel)\n",
        "    \n",
        "    contours, ret_image = cv2.findContours(closing,cv2.RETR_TREE,cv2.CHAIN_APPROX_SIMPLE)\n",
        "    \n",
        "    contains = []\n",
        "    y_ri,x_ri, _ = resized_image.shape\n",
        "    for cc in contours:\n",
        "        yn = cv2.pointPolygonTest(cc,(x_ri//2,y_ri//2),False)\n",
        "        contains.append(yn)\n",
        "\n",
        "    val = [contains.index(temp) for temp in contains if temp>0]\n",
        "    index = val[0]\n",
        "    \n",
        "    black_img = np.empty([1200,1600,3],dtype=np.uint8)\n",
        "    black_img.fill(0)\n",
        "    \n",
        "    cnt = contours[index]\n",
        "    mask = cv2.drawContours(black_img, [cnt] , 0, (255,255,255), -1)\n",
        "    \n",
        "    maskedImg = cv2.bitwise_and(resized_image, mask)\n",
        "    white_pix = [255,255,255]\n",
        "    black_pix = [0,0,0]\n",
        "    \n",
        "    final_img = maskedImg\n",
        "    h,w,channels = final_img.shape\n",
        "    for x in range(0,w):\n",
        "        for y in range(0,h):\n",
        "            channels_xy = final_img[y,x]\n",
        "            if all(channels_xy == black_pix):\n",
        "                final_img[y,x] = white_pix\n",
        "    \n",
        "    return final_img"
      ],
      "metadata": {
        "id": "Bg1WLkRqvakx"
      },
      "execution_count": null,
      "outputs": []
    },
    {
      "cell_type": "code",
      "source": [
        "filename = 'Daun_Sirih_Test.jpg' \n",
        "bg_rem_img = bg_sub(filename)"
      ],
      "metadata": {
        "id": "HsP2lIWizml4"
      },
      "execution_count": null,
      "outputs": []
    },
    {
      "cell_type": "code",
      "source": [
        "plt.imshow(bg_rem_img)"
      ],
      "metadata": {
        "colab": {
          "base_uri": "https://localhost:8080/",
          "height": 286
        },
        "id": "wIlHFPf0vaga",
        "outputId": "bb28c593-ab82-42c6-ba5b-a49726274390"
      },
      "execution_count": null,
      "outputs": [
        {
          "output_type": "execute_result",
          "data": {
            "text/plain": [
              "<matplotlib.image.AxesImage at 0x7ffb94ee93d0>"
            ]
          },
          "metadata": {},
          "execution_count": 41
        },
        {
          "output_type": "display_data",
          "data": {
            "text/plain": [
              "<Figure size 432x288 with 1 Axes>"
            ],
            "image/png": "[encoded data removed]"
          },
          "metadata": {
            "needs_background": "light"
          }
        }
      ]
    },
    {
      "cell_type": "code",
      "source": [
        "def feature_extract(img):\n",
        "    names = ['area','perimeter','pysiological_length','pysiological_width','aspect_ratio','rectangularity','circularity', \\\n",
        "             'mean_r','mean_g','mean_b','stddev_r','stddev_g','stddev_b', \\\n",
        "             'contrast','correlation','inverse_difference_moments','entropy']\n",
        "    df = pd.DataFrame([], columns=names)\n",
        "\n",
        "    #Preprocessing\n",
        "    gs = cv2.cvtColor(img,cv2.COLOR_RGB2GRAY)\n",
        "    blur = cv2.GaussianBlur(gs, (25,25),0)\n",
        "    ret_otsu,im_bw_otsu = cv2.threshold(blur,0,255,cv2.THRESH_BINARY_INV+cv2.THRESH_OTSU)\n",
        "    kernel = np.ones((50,50),np.uint8)\n",
        "    closing = cv2.morphologyEx(im_bw_otsu, cv2.MORPH_CLOSE, kernel)\n",
        "\n",
        "    #Ekstraksi Ciri Bentuk\n",
        "    contours, image = cv2.findContours(closing,cv2.RETR_TREE,cv2.CHAIN_APPROX_SIMPLE)\n",
        "    cnt = contours[0]\n",
        "    M = cv2.moments(cnt)\n",
        "    area = cv2.contourArea(cnt)\n",
        "    perimeter = cv2.arcLength(cnt,True)\n",
        "    x,y,w,h = cv2.boundingRect(cnt)\n",
        "    aspect_ratio = float(w)/h\n",
        "    rectangularity = w*h/area\n",
        "    circularity = ((perimeter)**2)/area\n",
        "\n",
        "    #Ekstraksi Ciri Warna\n",
        "    red_channel = img[:,:,0]\n",
        "    green_channel = img[:,:,1]\n",
        "    blue_channel = img[:,:,2]\n",
        "    blue_channel[blue_channel == 255] = 0\n",
        "    green_channel[green_channel == 255] = 0\n",
        "    red_channel[red_channel == 255] = 0\n",
        "\n",
        "    red_mean = np.mean(red_channel)\n",
        "    green_mean = np.mean(green_channel)\n",
        "    blue_mean = np.mean(blue_channel)\n",
        "\n",
        "    red_std = np.std(red_channel)\n",
        "    green_std = np.std(green_channel)\n",
        "    blue_std = np.std(blue_channel)\n",
        "\n",
        "    #Ekstraksi Ciri Tekstur\n",
        "    textures = mt.features.haralick(gs)\n",
        "    ht_mean = textures.mean(axis=0)\n",
        "    contrast = ht_mean[1]\n",
        "    correlation = ht_mean[2]\n",
        "    inverse_diff_moments = ht_mean[4]\n",
        "    entropy = ht_mean[8]\n",
        "\n",
        "    vector = [area,perimeter,w,h,aspect_ratio,rectangularity,circularity,\\\n",
        "              red_mean,green_mean,blue_mean,red_std,green_std,blue_std,\\\n",
        "              contrast,correlation,inverse_diff_moments,entropy\n",
        "             ]\n",
        "\n",
        "    df_temp = pd.DataFrame([vector],columns=names)\n",
        "    df = df.append(df_temp)\n",
        "    \n",
        "    return df"
      ],
      "metadata": {
        "id": "lFVfjYvRxcPC"
      },
      "execution_count": null,
      "outputs": []
    },
    {
      "cell_type": "code",
      "source": [
        "features_of_img = feature_extract(bg_rem_img)\n",
        "features_of_img"
      ],
      "metadata": {
        "colab": {
          "base_uri": "https://localhost:8080/",
          "height": 145
        },
        "id": "cvIFBhyFxcMr",
        "outputId": "dc213e76-19c9-48a6-b50a-0e2669cd2374"
      },
      "execution_count": null,
      "outputs": [
        {
          "output_type": "execute_result",
          "data": {
            "text/plain": [
              "       area    perimeter pysiological_length pysiological_width  aspect_ratio  \\\n",
              "0  714683.5  3503.666416                1339                761      1.759527   \n",
              "\n",
              "   rectangularity  circularity     mean_r     mean_g     mean_b  stddev_r  \\\n",
              "0        1.425777    17.176384  24.919225  37.431304  10.819678  36.44965   \n",
              "\n",
              "   stddev_g   stddev_b   contrast  correlation  inverse_difference_moments  \\\n",
              "0  50.74582  23.226978  91.330043      0.99373                    0.737089   \n",
              "\n",
              "    entropy  \n",
              "0  5.133321  "
            ],
            "text/html": [
              "\n",
              "  <div id=\"df-520f12ec-4e6b-4c5a-83de-5159c1ef642b\">\n",
              "    <div class=\"colab-df-container\">\n",
              "      <div>\n",
              "<style scoped>\n",
              "    .dataframe tbody tr th:only-of-type {\n",
              "        vertical-align: middle;\n",
              "    }\n",
              "\n",
              "    .dataframe tbody tr th {\n",
              "        vertical-align: top;\n",
              "    }\n",
              "\n",
              "    .dataframe thead th {\n",
              "        text-align: right;\n",
              "    }\n",
              "</style>\n",
              "<table border=\"1\" class=\"dataframe\">\n",
              "  <thead>\n",
              "    <tr style=\"text-align: right;\">\n",
              "      <th></th>\n",
              "      <th>area</th>\n",
              "      <th>perimeter</th>\n",
              "      <th>pysiological_length</th>\n",
              "      <th>pysiological_width</th>\n",
              "      <th>aspect_ratio</th>\n",
              "      <th>rectangularity</th>\n",
              "      <th>circularity</th>\n",
              "      <th>mean_r</th>\n",
              "      <th>mean_g</th>\n",
              "      <th>mean_b</th>\n",
              "      <th>stddev_r</th>\n",
              "      <th>stddev_g</th>\n",
              "      <th>stddev_b</th>\n",
              "      <th>contrast</th>\n",
              "      <th>correlation</th>\n",
              "      <th>inverse_difference_moments</th>\n",
              "      <th>entropy</th>\n",
              "    </tr>\n",
              "  </thead>\n",
              "  <tbody>\n",
              "    <tr>\n",
              "      <th>0</th>\n",
              "      <td>714683.5</td>\n",
              "      <td>3503.666416</td>\n",
              "      <td>1339</td>\n",
              "      <td>761</td>\n",
              "      <td>1.759527</td>\n",
              "      <td>1.425777</td>\n",
              "      <td>17.176384</td>\n",
              "      <td>24.919225</td>\n",
              "      <td>37.431304</td>\n",
              "      <td>10.819678</td>\n",
              "      <td>36.44965</td>\n",
              "      <td>50.74582</td>\n",
              "      <td>23.226978</td>\n",
              "      <td>91.330043</td>\n",
              "      <td>0.99373</td>\n",
              "      <td>0.737089</td>\n",
              "      <td>5.133321</td>\n",
              "    </tr>\n",
              "  </tbody>\n",
              "</table>\n",
              "</div>\n",
              "      <button class=\"colab-df-convert\" onclick=\"convertToInteractive('df-520f12ec-4e6b-4c5a-83de-5159c1ef642b')\"\n",
              "              title=\"Convert this dataframe to an interactive table.\"\n",
              "              style=\"display:none;\">\n",
              "        \n",
              "  <svg xmlns=\"http://www.w3.org/2000/svg\" height=\"24px\"viewBox=\"0 0 24 24\"\n",
              "       width=\"24px\">\n",
              "    <path d=\"M0 0h24v24H0V0z\" fill=\"none\"/>\n",
              "    <path d=\"M18.56 5.44l.94 2.06.94-2.06 2.06-.94-2.06-.94-.94-2.06-.94 2.06-2.06.94zm-11 1L8.5 8.5l.94-2.06 2.06-.94-2.06-.94L8.5 2.5l-.94 2.06-2.06.94zm10 10l.94 2.06.94-2.06 2.06-.94-2.06-.94-.94-2.06-.94 2.06-2.06.94z\"/><path d=\"M17.41 7.96l-1.37-1.37c-.4-.4-.92-.59-1.43-.59-.52 0-1.04.2-1.43.59L10.3 9.45l-7.72 7.72c-.78.78-.78 2.05 0 2.83L4 21.41c.39.39.9.59 1.41.59.51 0 1.02-.2 1.41-.59l7.78-7.78 2.81-2.81c.8-.78.8-2.07 0-2.86zM5.41 20L4 18.59l7.72-7.72 1.47 1.35L5.41 20z\"/>\n",
              "  </svg>\n",
              "      </button>\n",
              "      \n",
              "  <style>\n",
              "    .colab-df-container {\n",
              "      display:flex;\n",
              "      flex-wrap:wrap;\n",
              "      gap: 12px;\n",
              "    }\n",
              "\n",
              "    .colab-df-convert {\n",
              "      background-color: #E8F0FE;\n",
              "      border: none;\n",
              "      border-radius: 50%;\n",
              "      cursor: pointer;\n",
              "      display: none;\n",
              "      fill: #1967D2;\n",
              "      height: 32px;\n",
              "      padding: 0 0 0 0;\n",
              "      width: 32px;\n",
              "    }\n",
              "\n",
              "    .colab-df-convert:hover {\n",
              "      background-color: #E2EBFA;\n",
              "      box-shadow: 0px 1px 2px rgba(60, 64, 67, 0.3), 0px 1px 3px 1px rgba(60, 64, 67, 0.15);\n",
              "      fill: #174EA6;\n",
              "    }\n",
              "\n",
              "    [theme=dark] .colab-df-convert {\n",
              "      background-color: #3B4455;\n",
              "      fill: #D2E3FC;\n",
              "    }\n",
              "\n",
              "    [theme=dark] .colab-df-convert:hover {\n",
              "      background-color: #434B5C;\n",
              "      box-shadow: 0px 1px 3px 1px rgba(0, 0, 0, 0.15);\n",
              "      filter: drop-shadow(0px 1px 2px rgba(0, 0, 0, 0.3));\n",
              "      fill: #FFFFFF;\n",
              "    }\n",
              "  </style>\n",
              "\n",
              "      <script>\n",
              "        const buttonEl =\n",
              "          document.querySelector('#df-520f12ec-4e6b-4c5a-83de-5159c1ef642b button.colab-df-convert');\n",
              "        buttonEl.style.display =\n",
              "          google.colab.kernel.accessAllowed ? 'block' : 'none';\n",
              "\n",
              "        async function convertToInteractive(key) {\n",
              "          const element = document.querySelector('#df-520f12ec-4e6b-4c5a-83de-5159c1ef642b');\n",
              "          const dataTable =\n",
              "            await google.colab.kernel.invokeFunction('convertToInteractive',\n",
              "                                                     [key], {});\n",
              "          if (!dataTable) return;\n",
              "\n",
              "          const docLinkHtml = 'Like what you see? Visit the ' +\n",
              "            '<a target=\"_blank\" href=https://colab.research.google.com/notebooks/data_table.ipynb>data table notebook</a>'\n",
              "            + ' to learn more about interactive tables.';\n",
              "          element.innerHTML = '';\n",
              "          dataTable['output_type'] = 'display_data';\n",
              "          await google.colab.output.renderOutput(dataTable, element);\n",
              "          const docLink = document.createElement('div');\n",
              "          docLink.innerHTML = docLinkHtml;\n",
              "          element.appendChild(docLink);\n",
              "        }\n",
              "      </script>\n",
              "    </div>\n",
              "  </div>\n",
              "  "
            ]
          },
          "metadata": {},
          "execution_count": 43
        }
      ]
    },
    {
      "cell_type": "code",
      "source": [
        "scaled_features = sc_X.transform(features_of_img)\n",
        "print(scaled_features)\n",
        "y_pred_mobile = svm_clf.predict(scaled_features)\n",
        "y_pred_mobile[0]"
      ],
      "metadata": {
        "colab": {
          "base_uri": "https://localhost:8080/"
        },
        "id": "2NN_8uIQxcKo",
        "outputId": "e62b304d-e3b8-4faf-bf3f-b4a90e8bc50b"
      },
      "execution_count": null,
      "outputs": [
        {
          "output_type": "stream",
          "name": "stdout",
          "text": [
            "[[-1.04981568 -0.74716134 -0.64669282 -0.76284173  0.05396488 -0.33126901\n",
            "  -0.48248696 -6.44665627 -7.05334682 -6.35030138 -3.58853955 -0.7180203\n",
            "  -6.37555147  4.78680547 -1.88027161  2.67958955 -7.57703492]]\n"
          ]
        },
        {
          "output_type": "stream",
          "name": "stderr",
          "text": [
            "/usr/local/lib/python3.7/dist-packages/sklearn/base.py:493: FutureWarning: The feature names should match those that were passed during fit. Starting version 1.2, an error will be raised.\n",
            "Feature names unseen at fit time:\n",
            "- pysiological_length\n",
            "- pysiological_width\n",
            "Feature names seen at fit time, yet now missing:\n",
            "- physiological_length\n",
            "- physiological_width\n",
            "\n",
            "  warnings.warn(message, FutureWarning)\n"
          ]
        },
        {
          "output_type": "execute_result",
          "data": {
            "text/plain": [
              "1"
            ]
          },
          "metadata": {},
          "execution_count": 44
        }
      ]
    },
    {
      "cell_type": "code",
      "source": [
        "common_names = ['Lidah Buaya', 'Sirih', 'Pepaya', 'Kunyit', 'Sirsak', 'Jambu']\n",
        "common_names[y_pred_mobile[0]]"
      ],
      "metadata": {
        "colab": {
          "base_uri": "https://localhost:8080/",
          "height": 35
        },
        "id": "rVl3lF2-xcIY",
        "outputId": "bfbc553f-8b92-4872-b7f2-f762827996e5"
      },
      "execution_count": null,
      "outputs": [
        {
          "output_type": "execute_result",
          "data": {
            "text/plain": [
              "'Sirih'"
            ],
            "application/vnd.google.colaboratory.intrinsic+json": {
              "type": "string"
            }
          },
          "metadata": {},
          "execution_count": 45
        }
      ]
    },
    {
      "cell_type": "code",
      "source": [
        ""
      ],
      "metadata": {
        "id": "42ftkOy6xcF0"
      },
      "execution_count": null,
      "outputs": []
    },
    {
      "cell_type": "code",
      "source": [
        ""
      ],
      "metadata": {
        "id": "sA13I5KDxcDW"
      },
      "execution_count": null,
      "outputs": []
    }
  ]
}